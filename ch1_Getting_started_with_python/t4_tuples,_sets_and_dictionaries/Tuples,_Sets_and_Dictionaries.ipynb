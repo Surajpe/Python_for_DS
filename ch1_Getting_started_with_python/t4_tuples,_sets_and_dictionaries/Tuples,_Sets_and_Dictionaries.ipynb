{
  "nbformat": 4,
  "nbformat_minor": 0,
  "metadata": {
    "kernelspec": {
      "display_name": "Python 3",
      "language": "python",
      "name": "python3"
    },
    "language_info": {
      "codemirror_mode": {
        "name": "ipython",
        "version": 3
      },
      "file_extension": ".py",
      "mimetype": "text/x-python",
      "name": "python",
      "nbconvert_exporter": "python",
      "pygments_lexer": "ipython3",
      "version": "3.7.4"
    },
    "colab": {
      "provenance": []
    }
  },
  "cells": [
    {
      "cell_type": "markdown",
      "metadata": {
        "id": "8WbUJEVzs8Bx"
      },
      "source": [
        "## <u>While doing this assignment only use those concepts which have been taught till now</u>"
      ]
    },
    {
      "cell_type": "markdown",
      "metadata": {
        "id": "KjPWYK0Rs8By"
      },
      "source": [
        "## <u>Problem 1</u>\n",
        "\n",
        "### Another measure of average\n",
        "\n",
        "* Mode is defined as the value that appears most often in a set of data values. Mode corresponds to the most frequent value.\n",
        "* You are given a list of numbers and you need to calculate the mode of this list"
      ]
    },
    {
      "cell_type": "code",
      "metadata": {
        "id": "34TbaGurs8Bz"
      },
      "source": [
        "# A list containing average daily temperature over 10 days\n",
        "temperatures = [34, 40, 29, 33, 42, 40, 39, 34, 34,33 ]"
      ],
      "execution_count": null,
      "outputs": []
    },
    {
      "cell_type": "code",
      "metadata": {
        "id": "N1Yhpkiws8B3"
      },
      "source": [
        "# Step 1 : Find the unique set of values. Store this in a list\n",
        "unique_temperatures = set(temperatures)"
      ],
      "execution_count": null,
      "outputs": []
    },
    {
      "cell_type": "code",
      "metadata": {
        "id": "KpMdlB5Fs8B8",
        "colab": {
          "base_uri": "https://localhost:8080/"
        },
        "outputId": "7b407813-16a6-4019-acd3-d1e8a172adab"
      },
      "source": [
        "# Print the unique temperature list\n",
        "unique_temperatures"
      ],
      "execution_count": null,
      "outputs": [
        {
          "output_type": "execute_result",
          "data": {
            "text/plain": [
              "{29, 33, 34, 39, 40, 42}"
            ]
          },
          "metadata": {},
          "execution_count": 19
        }
      ]
    },
    {
      "cell_type": "code",
      "metadata": {
        "id": "J7CyJi_Ls8B_",
        "colab": {
          "base_uri": "https://localhost:8080/"
        },
        "outputId": "afde566e-761e-4834-a598-49c98ece1772"
      },
      "source": [
        "# Step 2 : Create an empty dictionary which will contain the unique temperatures as keys and their counts in the original temperatures list as values\n",
        "temp_dict = {}\n",
        "# Set the values for each key separately\n",
        "# First key\n",
        "temp_dict[29]=temperatures.count(29)\n",
        "\n",
        "\n",
        "# Second key\n",
        "\n",
        "temp_dict[33]=temperatures.count(33)\n",
        "\n",
        "# Third key\n",
        "\n",
        "temp_dict[34]=temperatures.count(34)\n",
        "\n",
        "# Fourth key\n",
        "\n",
        "temp_dict[39]=temperatures.count(39)\n",
        "\n",
        "# Fifth key\n",
        "\n",
        "temp_dict[40]=temperatures.count(40)\n",
        "\n",
        "# Sixth key\n",
        "temp_dict[42]=temperatures.count(42)\n",
        "\n",
        "print(temp_dict)"
      ],
      "execution_count": null,
      "outputs": [
        {
          "output_type": "stream",
          "name": "stdout",
          "text": [
            "{29: 1, 33: 2, 34: 3, 39: 1, 40: 2, 42: 1}\n"
          ]
        }
      ]
    },
    {
      "cell_type": "code",
      "metadata": {
        "id": "4-ZxbmMxtWfQ",
        "colab": {
          "base_uri": "https://localhost:8080/"
        },
        "outputId": "ba121c79-e215-4118-d9f5-5eaed75efb7d"
      },
      "source": [
        "# Step 3: Store the dictionary values in a list\n",
        "\n",
        "temp_dict_frequencies=list(temp_dict.values())\n",
        "# Print the list of dictionary values\n",
        "print(temp_dict_frequencies)\n",
        "\n",
        "# Find the index of the most frequent temperature value\n",
        "most_frequent_temp_index=temp_dict_frequencies.index(max(temp_dict_frequencies))\n",
        "\n",
        "# most_frequent_temp_index =\n",
        "\n",
        "# Print the index\n",
        "print(most_frequent_temp_index)"
      ],
      "execution_count": null,
      "outputs": [
        {
          "output_type": "stream",
          "name": "stdout",
          "text": [
            "[1, 2, 3, 1, 2, 1]\n",
            "2\n"
          ]
        }
      ]
    },
    {
      "cell_type": "code",
      "metadata": {
        "id": "riu9mZhcwBY6",
        "colab": {
          "base_uri": "https://localhost:8080/"
        },
        "outputId": "59940400-cbe7-4561-ab6d-75c1e1365819"
      },
      "source": [
        "# Step 4 : Create the list of dictionary keys\n",
        "temp_dict_keys = list(temp_dict.keys())\n",
        "\n",
        "# Print the list of dictionary keys\n",
        "print(temp_dict_keys)\n",
        "# Calculate the mode temperature\n",
        "mode_temp =(max(temp_dict_frequencies))\n",
        "print(mode_temp)"
      ],
      "execution_count": null,
      "outputs": [
        {
          "output_type": "stream",
          "name": "stdout",
          "text": [
            "[29, 33, 34, 39, 40, 42]\n",
            "3\n"
          ]
        }
      ]
    },
    {
      "cell_type": "markdown",
      "metadata": {
        "id": "5qd8g8UUs8CM"
      },
      "source": [
        "## <u>Problem 2 </u>\n",
        "\n",
        "### Challenging the immutability of tuples\n",
        "\n",
        "You are given a list of tuples. You need to replace the last element of the last tuple"
      ]
    },
    {
      "cell_type": "code",
      "metadata": {
        "id": "FBJy9Sq_s8CN"
      },
      "source": [
        "# Input list of tuples\n",
        "\n",
        "list_of_tuples = [(10,20,30),(30,40,50),(50,60,70)]\n",
        "\n",
        "\n",
        "# Expected output : Replace the last element 70 with 100\n",
        "# output_list = [(10,20,30),(30,40,50),(50,60,100)]"
      ],
      "execution_count": null,
      "outputs": []
    },
    {
      "cell_type": "code",
      "metadata": {
        "id": "UNtYax1as8CR",
        "colab": {
          "base_uri": "https://localhost:8080/"
        },
        "outputId": "322b6bcf-911e-43da-9966-0bc64b11da92"
      },
      "source": [
        "# Your code here\n",
        "list_of_tuples[-1]=(50,60,100)\n",
        "# Print the output list\n",
        "print(list_of_tuples)"
      ],
      "execution_count": null,
      "outputs": [
        {
          "output_type": "stream",
          "name": "stdout",
          "text": [
            "[(10, 20, 30), (30, 40, 50), (50, 60, 100)]\n"
          ]
        }
      ]
    },
    {
      "cell_type": "markdown",
      "metadata": {
        "id": "ejRCi-vTs8CU"
      },
      "source": [
        "## <u> Problem 3 </u>\n",
        "\n",
        "Natural Language Processing or NLP is one of the most promising fields in Machine Learning. Most of the times in NLP we deal with the textual data (a bunch of strings). Sometimes when we are processing the text, it is a common practice to get rid of some set of stop words from our original text. By default stop words are very common words used in English language such as and, or, punctuations etc.\n",
        "\n",
        "In this exercise, you are provided with a default set of stop words and you need to add some extra set of custom words."
      ]
    },
    {
      "cell_type": "code",
      "metadata": {
        "id": "C5olNuDGs8CU"
      },
      "source": [
        "# A sample sentence\n",
        "\n",
        "sentence = 'Hello, good morning folks! Today we will announce the half yearly performance results of the company. Due to the ongoing COVID-19 pandemic, our profits have declined by 60% as compared to the last half yearly results'\n",
        "\n",
        "# Print your sentence\n",
        "print(sentence)"
      ],
      "execution_count": null,
      "outputs": []
    },
    {
      "cell_type": "code",
      "metadata": {
        "id": "B4afm8gCs8CY",
        "colab": {
          "base_uri": "https://localhost:8080/"
        },
        "outputId": "e6242722-3e9d-484e-9f71-20892f592acb"
      },
      "source": [
        "# Default set of stop words\n",
        "stop_words = {\"i\", \"me\", \"my\", \"myself\", \"we\", \"our\", \"ours\", \"ourselves\", \"you\", \"your\", \"yours\", \"yourself\",\n",
        "              \"yourselves\", \"he\", \"him\", \"his\", \"himself\", \"she\", \"her\", \"hers\", \"herself\", \"it\", \"its\", \"itself\",\n",
        "              \"they\", \"them\", \"their\", \"theirs\", \"themselves\", \"what\", \"which\", \"who\", \"whom\", \"this\", \"that\",\n",
        "              \"these\", \"those\", \"am\", \"is\", \"are\", \"was\", \"were\", \"be\", \"been\", \"being\", \"have\", \"has\", \"had\",\n",
        "              \"having\", \"do\", \"does\", \"did\", \"doing\", \"a\", \"an\", \"the\", \"and\", \"but\", \"if\", \"or\", \"because\",\n",
        "              \"as\", \"until\", \"while\", \"of\", \"at\", \"by\"s, \"for\", \"with\", \"about\", \"against\", \"between\", \"into\",\n",
        "              \"through\", \"during\", \"before\", \"after\", \"above\", \"below\", \"to\", \"from\", \"up\", \"down\", \"in\", \"out\",\n",
        "              \"on\", \"off\", \"over\", \"under\", \"again\", \"further\", \"then\", \"once\", \"here\", \"there\", \"when\", \"where\",\n",
        "              \"why\", \"how\", \"all\", \"any\", \"both\", \"each\", \"few\", \"more\", \"most\", \"other\", \"some\", \"such\", \"no\",\n",
        "              \"nor\", \"not\", \"only\", \"own\", \"same\", \"so\", \"than\", \"too\", \"very\", \"s\", \"t\", \"can\", \"will\", \"just\",\n",
        "              \"don\", \"should\", \"now\"}\n",
        "\n",
        "stop_words_list=list(stop_words)\n",
        "len(stop_words_list)"
      ],
      "execution_count": null,
      "outputs": [
        {
          "output_type": "execute_result",
          "data": {
            "text/plain": [
              "127"
            ]
          },
          "metadata": {},
          "execution_count": 27
        }
      ]
    },
    {
      "cell_type": "code",
      "metadata": {
        "id": "evgHHnRks8Cc",
        "colab": {
          "base_uri": "https://localhost:8080/"
        },
        "outputId": "9dac701a-2fbd-47b0-e80a-9b041f965168"
      },
      "source": [
        "# Update the set of stop words by adding the custom stop words\n",
        "custom_stop_words = [\"hello\",\"good\",\"morning\",\"half\",\"yearly\"]\n",
        "\n",
        "# Your code here\n",
        "updated_stop_words=stop_words_list+custom_stop_words\n",
        "\n",
        "# Print the updated stop words\n",
        "print(updated_stop_words)\n",
        "len(updated_stop_words)"
      ],
      "execution_count": null,
      "outputs": [
        {
          "output_type": "stream",
          "name": "stdout",
          "text": [
            "['herself', 'don', 'what', 'yourself', 'then', 'a', 'down', 'them', 'my', 'our', 'few', 'itself', 'how', 'between', 'so', 'those', 'or', 'up', 'while', 'was', 'themselves', 'ourselves', 'through', 'now', 'too', 'each', 'all', 'below', 'him', 'should', 'only', 'are', 'because', 'this', 'me', 'nor', 'yours', 'no', 'other', 'she', 'under', 'we', 'am', 'just', 'above', 's', 'at', 'which', 'against', 'myself', 'the', 'who', 'own', 'but', 'until', 'did', 'hers', 'whom', 'that', 'can', 'his', 'its', 'on', 'theirs', 'has', 'where', 'further', 'do', 'yourselves', 'off', 'have', 'will', 'her', 'being', 'any', 'he', 'they', 'such', 'be', 'over', 'why', 'about', 'to', 'an', 'here', 'most', 'during', 'having', 'were', 'by', 'of', 'had', 'both', 'in', 'into', 'when', 'very', 'than', 'not', 'again', 'same', 'you', 'there', 'doing', 'with', 'for', 'more', 'been', 'and', 'i', 'ours', 'from', 'your', 'it', 'these', 'as', 'if', 'after', 'once', 'their', 'is', 'himself', 'some', 'before', 'does', 't', 'out', 'hello', 'good', 'morning', 'half', 'yearly']\n"
          ]
        },
        {
          "output_type": "execute_result",
          "data": {
            "text/plain": [
              "132"
            ]
          },
          "metadata": {},
          "execution_count": 28
        }
      ]
    },
    {
      "cell_type": "code",
      "metadata": {
        "id": "1QbZrotrtIE3",
        "colab": {
          "base_uri": "https://localhost:8080/"
        },
        "outputId": "cc7463c2-8fd9-4373-fa97-a0d70a755a97"
      },
      "source": [
        "# Do the same task another way. Keep in mind to use the original set of stop_words for this piece of code\n",
        "custom_stop_words=set(custom_stop_words)\n",
        "stop_words=stop_words.union(custom_stop_words)\n",
        "# Print the updated stop words\n",
        "print(stop_words)\n",
        "len(stop_words)"
      ],
      "execution_count": null,
      "outputs": [
        {
          "output_type": "stream",
          "name": "stdout",
          "text": [
            "{'what', 'yourself', 'down', 'them', 'itself', 'those', 'half', 'or', 'now', 'below', 'only', 'are', 'this', 'me', 'yours', 'no', 'she', 'under', 's', 'at', 'which', 'against', 'the', 'who', 'hers', 'whom', 'his', 'its', 'theirs', 'further', 'do', 'off', 'any', 'he', 'they', 'be', 'over', 'here', 'most', 'were', 'by', 'both', 'good', 'into', 'when', 'very', 'again', 'you', 'there', 'doing', 'with', 'been', 'and', 'ours', 'your', 'these', 'their', 'is', 'before', 'does', 'morning', 'herself', 'don', 'then', 'a', 'my', 'our', 'few', 'how', 'hello', 'between', 'so', 'up', 'while', 'was', 'themselves', 'ourselves', 'through', 'too', 'each', 'all', 'should', 'because', 'nor', 'other', 'we', 'am', 'just', 'above', 'myself', 'own', 'but', 'until', 'did', 'that', 'can', 'on', 'has', 'where', 'yourselves', 'have', 'will', 'her', 'being', 'such', 'why', 'about', 'to', 'an', 'during', 'having', 'of', 'had', 'in', 'than', 'not', 'same', 'for', 'more', 'i', 'from', 'it', 'as', 'if', 'after', 'yearly', 'once', 'himself', 'some', 'him', 't', 'out'}\n"
          ]
        },
        {
          "output_type": "execute_result",
          "data": {
            "text/plain": [
              "132"
            ]
          },
          "metadata": {},
          "execution_count": 35
        }
      ]
    },
    {
      "cell_type": "markdown",
      "metadata": {
        "id": "P1rOYC8Is8Cf"
      },
      "source": [
        "## <u>Problem 4</u>\n",
        "\n",
        " Write a Python script to check whether a given key already exists in a dictionary. If it does, drop that key from the dictionary. If it does not, add that key and corresponding value to the dictionary"
      ]
    },
    {
      "cell_type": "code",
      "metadata": {
        "id": "ySeGyCtCs8Cg"
      },
      "source": [
        "# Your dictionary\n",
        "employee_dict = {'Name':'Sanket','Skills':['Python','Machine Learning','Deep Learning'],'Band':6.0,\n",
        "                 'Promotion Year':[2016,2018,2020]}"
      ],
      "execution_count": null,
      "outputs": []
    },
    {
      "cell_type": "code",
      "metadata": {
        "id": "MI7mOHaqs8Cj"
      },
      "source": [
        "# Check if the key 'Employee_ID' is present in the dictionary. Hint : use a boolean variable to store this value\n",
        "if employee_dict.get(\"Employee_ID\") is not None:\n",
        "  employee_dict.pop(\"Employee_ID\")\n",
        "else:\n",
        "  employee_dict[\"Employee_ID\"]=4503233\n",
        "\n",
        "# If not present add this key to this dictionary and the corresponding value to be 4503233\n"
      ],
      "execution_count": null,
      "outputs": []
    },
    {
      "cell_type": "code",
      "metadata": {
        "id": "ARPbZfY8s8Co"
      },
      "source": [
        "# Check if the key 'Band' is present in the dictionary.\n",
        "if employee_dict.get(\"Band\") is not None:\n",
        "  employee_dict.pop(\"Band\")\n",
        "\n",
        "# If present, drop this key from the dictionary\n"
      ],
      "execution_count": null,
      "outputs": []
    },
    {
      "cell_type": "code",
      "metadata": {
        "id": "lUDbbyXmulzh",
        "colab": {
          "base_uri": "https://localhost:8080/"
        },
        "outputId": "85126307-f4bf-446c-fcb1-14bff4f74b85"
      },
      "source": [
        "# Print the updated dictionary\n",
        "employee_dict"
      ],
      "execution_count": null,
      "outputs": [
        {
          "output_type": "execute_result",
          "data": {
            "text/plain": [
              "{'Name': 'Sanket',\n",
              " 'Skills': ['Python', 'Machine Learning', 'Deep Learning'],\n",
              " 'Promotion Year': [2016, 2018, 2020],\n",
              " 'Employee_ID': 4503233}"
            ]
          },
          "metadata": {},
          "execution_count": 40
        }
      ]
    },
    {
      "cell_type": "code",
      "source": [],
      "metadata": {
        "id": "GeMCU1MyHxD8"
      },
      "execution_count": null,
      "outputs": []
    }
  ]
}