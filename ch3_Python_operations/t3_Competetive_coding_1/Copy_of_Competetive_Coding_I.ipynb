{
  "nbformat": 4,
  "nbformat_minor": 0,
  "metadata": {
    "colab": {
      "provenance": []
    },
    "kernelspec": {
      "name": "python3",
      "display_name": "Python 3"
    }
  },
  "cells": [
    {
      "cell_type": "markdown",
      "metadata": {
        "id": "XA-b8BLzYrbe"
      },
      "source": [
        "\n",
        "# Time : 1 hour\n",
        "\n",
        "# Problem Statement"
      ]
    },
    {
      "cell_type": "markdown",
      "metadata": {
        "id": "soIV-F7Wcbp3"
      },
      "source": [
        "### A student is taking a cryptography class and has found anagrams to be very useful. Two strings are anagrams of each other if the first string's letters can be rearranged to form the second string. In other words, both strings must contain the same exact letters in the same exact frequency. For example, bacdc and dcbac are anagrams, but bacdc and dcbad are not.\n",
        "\n",
        "### The student decides on an encryption scheme that involves two large strings. The encryption is dependent on the minimum number of character deletions required to make the two strings anagrams. You need to determine this number.\n",
        "\n",
        "### Given two strings, $a$ and $b$, that may or may not be of the same length, determine the minimum number of character deletions required to make $a$ and $b$ anagrams. Any characters can be deleted from either of the strings. The strings $a$ and $b$ consist of lowercase English alphabets."
      ]
    },
    {
      "cell_type": "markdown",
      "metadata": {
        "id": "TS0zgz0PcfYz"
      },
      "source": [
        "**Example**\n",
        "\n",
        "<code>a = 'cde'</code>\n",
        "\n",
        "<code>b = 'dcf' </code>"
      ]
    },
    {
      "cell_type": "markdown",
      "metadata": {
        "id": "kxZ3mdXsckZm"
      },
      "source": [
        "### Delete $e$ from $a$ and $f$ from $b$ so that the remaining strings are $cd$ and $dc$ which are anagrams. This takes 2 character deletions."
      ]
    },
    {
      "cell_type": "markdown",
      "metadata": {
        "id": "1QlkSP3KcozS"
      },
      "source": [
        "## **Function Description**\n",
        "\n",
        "### Create a <code>makeAnagram</code> function below.\n",
        "\n",
        "### **Inputs:**\n",
        "\n",
        "### string a: a string\n",
        "\n",
        "### string b: another string\n",
        "\n",
        "### **Output:**\n",
        "\n",
        "### int: the minimum total characters that must be deleted"
      ]
    },
    {
      "cell_type": "markdown",
      "metadata": {
        "id": "-woYEa44Z-Cf"
      },
      "source": [
        "# Solution"
      ]
    },
    {
      "cell_type": "code",
      "metadata": {
        "id": "sJ6O2MtIZ9dP"
      },
      "source": [
        "# class makeAnagram():\n",
        "#   def __init__(self,a,b):\n",
        "#     count_fora=0\n",
        "#     self.a=a.replace(\" \",\"\")\n",
        "#     self.b=b.replace(\" \",\"\")\n",
        "#     if(len(self.a)!=len(self.b)):\n",
        "#       for var in self.a:\n",
        "#         if var in self.b:\n",
        "#           var_cnta=(self.a).count(var)\n",
        "#           var_cntb=(self.b).count(var)\n",
        "#           if(var_cnta == var_cntb):\n",
        "#             pass\n",
        "#           else:\n",
        "#             if(var_cnta>var_cntb):\n",
        "#               diffa=var_cnta-var.cntb\n",
        "#               self.a.replace(\"var\",\"\",diffa)\n",
        "#               count_fora=count_fora+1\n",
        "#             elif(var_cnta<var_cntb):\n",
        "#               diffb=var_cntb-var_cnta\n",
        "#               self.b.replace(\"var\",\"\",diffb)\n",
        "#               count_fora=count_fora+1\n",
        "#     elif(len(self.a)==len(self.b)):\n",
        "#           for var in self.a:\n",
        "#             if var in self.b:\n",
        "#               var_cnta=(self.a).count(var)\n",
        "#               var_cntb=(self.b).count(var)\n",
        "#               if(var_cnta == var_cntb):\n",
        "#                 pass\n",
        "#               else:\n",
        "#                 if(var_cnta>var_cntb):\n",
        "#                   diffa=var_cnta-var.cntb\n",
        "#                   self.a.replace(\"var\",\"\",diffa)\n",
        "#                   count_fora=count_fora+1\n",
        "#                 elif(var_cnta<var_cntb):\n",
        "#                   diffb=var_cntb-var.cnta\n",
        "#                   self.b.replace(\"var\",\"\",diffb)\n",
        "#                   count_fora=count_fora+1\n",
        "#     print(count_fora)\n",
        "\n",
        "class makeAnagram():\n",
        "  def __init__(self,str1, str2):\n",
        "    self.str1=str1\n",
        "    self.str2=str2\n",
        "    res=0\n",
        "    n=26\n",
        "    str1_blank=[0]*27\n",
        "    str2_blank=[0]*27\n",
        "    dict_alpnum={'a':0,'b':1,'c':2,'d':3,'e':4,'f':5,'g':6,'h':7,'i':8,'j':9,'k':10,'l':11,'m':12,'n':13,'o':14,'p':15,'q':16,'r':17,'s':18,'t':19,'u':20,'v':21,'w':22,'x':23,'y':24,'z':2,' ':26}\n",
        "    for char in str1:\n",
        "      char_index=dict_alpnum[char]\n",
        "      str1_blank[char_index]=str1_blank[char_index]+1\n",
        "    for char in str2:\n",
        "      char_index2=dict_alpnum[char]\n",
        "      str2_blank[char_index2]=str2_blank[char_index2]+1\n",
        "\n",
        "    for i in range(27):\n",
        "      diff=abs(str1_blank[i]-str2_blank[i])\n",
        "      res=res+diff\n",
        "    print(res)"
      ],
      "execution_count": null,
      "outputs": []
    },
    {
      "cell_type": "code",
      "metadata": {
        "id": "COgSp7CXYczM",
        "outputId": "4b945e9d-df2b-4447-fdb8-34c43f85aea1",
        "colab": {
          "base_uri": "https://localhost:8080/"
        }
      },
      "source": [
        "anag=makeAnagram('a string','another string')"
      ],
      "execution_count": null,
      "outputs": [
        {
          "output_type": "stream",
          "name": "stdout",
          "text": [
            "6\n"
          ]
        }
      ]
    },
    {
      "cell_type": "code",
      "source": [],
      "metadata": {
        "id": "39goMgQegTBv",
        "colab": {
          "base_uri": "https://localhost:8080/"
        },
        "outputId": "e7feafbf-2287-4538-997c-3f0506aff51b"
      },
      "execution_count": null,
      "outputs": [
        {
          "output_type": "execute_result",
          "data": {
            "text/plain": [
              "1"
            ]
          },
          "metadata": {},
          "execution_count": 16
        }
      ]
    },
    {
      "cell_type": "code",
      "source": [],
      "metadata": {
        "id": "N0zNqUAuLs8O"
      },
      "execution_count": null,
      "outputs": []
    }
  ]
}