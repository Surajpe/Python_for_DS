{
  "nbformat": 4,
  "nbformat_minor": 0,
  "metadata": {
    "colab": {
      "provenance": []
    },
    "kernelspec": {
      "name": "python3",
      "display_name": "Python 3"
    }
  },
  "cells": [
    {
      "cell_type": "markdown",
      "metadata": {
        "id": "2jnw9mA7ZmdB"
      },
      "source": [
        "## <u>While doing this assignment only use those concepts which have been taught till now</u>"
      ]
    },
    {
      "cell_type": "markdown",
      "metadata": {
        "id": "OUYGTTD6Q2i_"
      },
      "source": [
        "# Problem 1\n",
        "\n",
        "Write a Python function which takes a string as an input and returns the reversed string as an output.\n",
        "\n",
        "\n",
        "*   Do not use any inbuilt funtion or method. Use `for` loops only.\n",
        "*   Also, do the time and space complexity analysis.\n",
        "\n"
      ]
    },
    {
      "cell_type": "code",
      "metadata": {
        "id": "jef509dzQxBU",
        "outputId": "27a0d176-f192-4ce6-d3f2-b1e9f13e2bc4",
        "colab": {
          "base_uri": "https://localhost:8080/",
          "height": 35
        }
      },
      "source": [
        "# Write your code here\n",
        "def reverse(sen):\n",
        "  reversen=''\n",
        "  for i in range(len(sen)):\n",
        "    reversen=reversen+(sen[len(sen)-1-i])\n",
        "  return reversen\n",
        "\n",
        "reverse('suraj')\n",
        "\n",
        "# Time Complexity : 0(n)\n",
        "# Space Complexity :0(n)\n",
        "# Auxiliary Space : 0(1)"
      ],
      "execution_count": null,
      "outputs": [
        {
          "output_type": "execute_result",
          "data": {
            "text/plain": [
              "'jarus'"
            ],
            "application/vnd.google.colaboratory.intrinsic+json": {
              "type": "string"
            }
          },
          "metadata": {},
          "execution_count": 11
        }
      ]
    },
    {
      "cell_type": "markdown",
      "metadata": {
        "id": "wfeWSBcTgO6y"
      },
      "source": [
        "# Problem 2\n",
        "\n",
        "Write a Python function which takes a list of `n` lists as an input. Each of the `n` lists have `m` non-zero positive integers each. The function should return a list which contains `n` integers corresponding to the square of the maximum of each of the `n` lists in the list of lists.\n",
        "\n",
        "Example:\n",
        "Inputs\n",
        "```\n",
        "n = 2\n",
        "m = 3\n",
        "list_of_lists = [[1, 2, 3], [5, 7, 6]]\n",
        "```\n",
        "Output:\n",
        "```\n",
        "[9, 49]\n",
        "```\n",
        "\n",
        "*   Do not use any inbuilt funtion or method. Use `for` loops only.\n",
        "*   Also, do the time and space complexity analysis.\n"
      ]
    },
    {
      "cell_type": "code",
      "metadata": {
        "id": "x2rY4yMChDPM",
        "outputId": "8e1ea6f7-9515-4bb4-fb1e-26a0d046b351",
        "colab": {
          "base_uri": "https://localhost:8080/"
        }
      },
      "source": [
        "# Write your code here\n",
        "outer_list=[]\n",
        "squared_list=[]\n",
        "def list_of_lists(n,m):\n",
        "\n",
        "  for j in range(n):\n",
        "    inner_list=[]\n",
        "    for i in range(m):\n",
        "      v=int(input())\n",
        "      inner_list.append(v)\n",
        "    outer_list.append(inner_list)\n",
        "  max_element(outer_list)\n",
        "  return outer_list\n",
        "\n",
        "\n",
        "def max_element(lis):\n",
        "  print(\"inside max_list\")\n",
        "\n",
        "  for ele in lis:\n",
        "    max=0\n",
        "    for inner_ele in ele:\n",
        "      if(inner_ele>max):\n",
        "        max=inner_ele\n",
        "    squared_list.append(max*max)\n",
        "  return squared_list\n",
        "\n",
        "n=int(input())\n",
        "m=int(input())\n",
        "list_of_lists(n,m)\n",
        "print(outer_list)\n",
        "print(squared_list)\n",
        "\n",
        "# Time Complexity : 0(n^2)\n",
        "# Space Complexity : 0(n)\n",
        "# Auxiliary Space : 0(1)"
      ],
      "execution_count": null,
      "outputs": [
        {
          "output_type": "stream",
          "name": "stdout",
          "text": [
            "3\n",
            "3\n",
            "1\n",
            "2\n",
            "3\n",
            "4\n",
            "5\n",
            "6\n",
            "7\n",
            "8\n",
            "9\n",
            "inside max_list\n",
            "[[1, 2, 3], [4, 5, 6], [7, 8, 9]]\n",
            "[9, 36, 81]\n"
          ]
        }
      ]
    },
    {
      "cell_type": "code",
      "source": [],
      "metadata": {
        "id": "nE2lvRj9b4fA"
      },
      "execution_count": null,
      "outputs": []
    }
  ]
}